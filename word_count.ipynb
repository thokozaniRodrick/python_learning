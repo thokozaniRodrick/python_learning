{
 "cells": [
  {
   "cell_type": "code",
   "execution_count": 3,
   "id": "5b5eb318-9d1a-4925-a1cc-816320e2568c",
   "metadata": {},
   "outputs": [
    {
     "name": "stdin",
     "output_type": "stream",
     "text": [
      "type your paragraph to count: thokozani is a python student at takeno lab\n"
     ]
    },
    {
     "name": "stdout",
     "output_type": "stream",
     "text": [
      "Number of words in your paragraph are 8\n"
     ]
    }
   ],
   "source": [
    "paragraph = input(\"type your paragraph to count:\")\n",
    "count = 0\n",
    "for char in paragraph:\n",
    "    if char==\" \" or char ==\"\\n\":\n",
    "        count+=1\n",
    "print(f\"Number of words in your paragraph are {count+1}\")"
   ]
  },
  {
   "cell_type": "code",
   "execution_count": null,
   "id": "6c48430a-1870-4a87-954e-5d44c58263c6",
   "metadata": {},
   "outputs": [],
   "source": []
  }
 ],
 "metadata": {
  "kernelspec": {
   "display_name": "Python 3 (ipykernel)",
   "language": "python",
   "name": "python3"
  },
  "language_info": {
   "codemirror_mode": {
    "name": "ipython",
    "version": 3
   },
   "file_extension": ".py",
   "mimetype": "text/x-python",
   "name": "python",
   "nbconvert_exporter": "python",
   "pygments_lexer": "ipython3",
   "version": "3.13.2"
  }
 },
 "nbformat": 4,
 "nbformat_minor": 5
}
